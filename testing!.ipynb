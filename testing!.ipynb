{
 "cells": [
  {
   "cell_type": "markdown",
   "id": "2b3db2e9",
   "metadata": {},
   "source": [
    "# Title of the Notebook\n"
   ]
  },
  {
   "cell_type": "markdown",
   "id": "83bb9770",
   "metadata": {},
   "source": [
    "## Introduction\n",
    "\n",
    "In this notebook, we will explore the analysis of customer churn in a telecommunications company. We will examine the data, perform exploratory data analysis, and build a predictive model to determine which customers are most likely to churn. \n"
   ]
  },
  {
   "cell_type": "markdown",
   "id": "ef82250f",
   "metadata": {},
   "source": [
    "## Popular Data Science Languages\n",
    "\n",
    "- Python\n",
    "- R\n",
    "- SQL\n",
    "- Julia\n",
    "- MATLAB\n",
    "- Scala\n"
   ]
  },
  {
   "cell_type": "markdown",
   "id": "1fa53adc",
   "metadata": {},
   "source": [
    "## Popular Data Science Libraries\n",
    "\n",
    "- NumPy\n",
    "- Pandas\n",
    "- Scikit-learn\n",
    "- Matplotlib\n",
    "- Seaborn\n",
    "- TensorFlow\n",
    "- PyTorch\n",
    "- Keras\n",
    "- XGBoost\n"
   ]
  },
  {
   "cell_type": "code",
   "execution_count": 3,
   "id": "4fb1d517",
   "metadata": {},
   "outputs": [
    {
     "name": "stdout",
     "output_type": "stream",
     "text": [
      "The product of a and b is: 6\n",
      "The sum of a and b is: 5\n"
     ]
    }
   ],
   "source": [
    "a = 2\n",
    "b = 3\n",
    "c = a * b\n",
    "d = a + b\n",
    "print(\"The product of a and b is:\", c)\n",
    "print(\"The sum of a and b is:\", d)\n"
   ]
  },
  {
   "cell_type": "code",
   "execution_count": 4,
   "id": "6ab18213",
   "metadata": {},
   "outputs": [
    {
     "name": "stdout",
     "output_type": "stream",
     "text": [
      "There are 2.0833333333333335 hours in 125 minutes.\n"
     ]
    }
   ],
   "source": [
    "minutes = 125\n",
    "hours = minutes / 60\n",
    "print(\"There are\", hours, \"hours in\", minutes, \"minutes.\")\n"
   ]
  },
  {
   "cell_type": "markdown",
   "id": "e95cdaf9",
   "metadata": {},
   "source": [
    "# Author: Ahmad\n"
   ]
  },
  {
   "cell_type": "markdown",
   "id": "b8c62916",
   "metadata": {},
   "source": [
    "## Objectives\n",
    "\n",
    "- Objective 1\n",
    "- Objective 2\n",
    "- Objective 3\n"
   ]
  },
  {
   "cell_type": "code",
   "execution_count": null,
   "id": "709aedee",
   "metadata": {},
   "outputs": [],
   "source": []
  },
  {
   "cell_type": "code",
   "execution_count": null,
   "id": "46b4a1ce",
   "metadata": {},
   "outputs": [],
   "source": []
  },
  {
   "cell_type": "code",
   "execution_count": null,
   "id": "8a9e8ac7",
   "metadata": {},
   "outputs": [],
   "source": []
  }
 ],
 "metadata": {
  "kernelspec": {
   "display_name": "Python 3 (ipykernel)",
   "language": "python",
   "name": "python3"
  },
  "language_info": {
   "codemirror_mode": {
    "name": "ipython",
    "version": 3
   },
   "file_extension": ".py",
   "mimetype": "text/x-python",
   "name": "python",
   "nbconvert_exporter": "python",
   "pygments_lexer": "ipython3",
   "version": "3.9.13"
  }
 },
 "nbformat": 4,
 "nbformat_minor": 5
}
